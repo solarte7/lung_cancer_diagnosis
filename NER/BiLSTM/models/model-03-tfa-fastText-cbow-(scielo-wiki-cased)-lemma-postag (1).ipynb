{
 "cells": [
  {
   "cell_type": "markdown",
   "metadata": {},
   "source": [
    "### Modelo Deep learning NER con bilstm y crf model-03-tfa-fastText-cbow-(scielo-wiki-cased)-lemma-postag\n",
    "\n",
    "### Definicion de Parametro e Hiperparametros del Modelo"
   ]
  },
  {
   "cell_type": "code",
   "execution_count": null,
   "metadata": {},
   "outputs": [],
   "source": [
    "import sys\n",
    "sys.path.append('../libs')\n",
    "\n",
    "import tensorflow as tf\n",
    "import matplotlib.pyplot as plt\n",
    "import numpy as np\n",
    "import pickle\n",
    "import pandas as pd\n",
    "from itertools import islice\n",
    "\n",
    "from tabulate import tabulate\n",
    "from sklearn.metrics import confusion_matrix\n",
    "from sklearn.metrics import classification_report as eskclarep\n",
    "from seqeval.metrics import precision_score, recall_score, f1_score, accuracy_score\n",
    "from seqeval.metrics import classification_report as seqclarep\n",
    "from sklearn.preprocessing import LabelBinarizer\n",
    "from itertools import chain\n",
    "\n",
    "from tensorflow.keras.preprocessing.sequence import pad_sequences\n",
    "from tensorflow.keras.models import Model, Sequential\n",
    "from tensorflow.keras.layers import Concatenate, Lambda, Input, LSTM, Embedding, Dense, TimeDistributed, Dropout, Bidirectional, InputLayer, Activation, Flatten\n",
    "from tensorflow.keras.optimizers import Adam, schedules\n",
    "from crfta import CRF as crf4\n",
    "from utils import build_matrix_embeddings as bme\n",
    "\n",
    "from tensorflow.keras.callbacks import ModelCheckpoint\n",
    "from tensorflow.keras.callbacks import TensorBoard\n",
    "\n",
    "from IPython.core.display import display, HTML\n",
    "\n",
    "import datetime, os\n",
    "import random\n",
    "\n",
    "SEED = 42\n",
    "os.environ['PYTHONHASHSEED']=str(SEED)\n",
    "os.environ['TF_CUDNN_DETERMINISTIC'] = '1'  # TF 2.1+\n",
    "random.seed(SEED)\n",
    "np.random.seed(SEED)\n",
    "tf.random.set_seed(SEED)\n",
    "\n",
    "MODEL         = 'model-03-tfa-fastText-cbow-(scielo-wiki-cased)-lemma-postag'\n",
    "logs_base_dir = \"../logs\"\n",
    "log_dir       = logs_base_dir + \"/\" + MODEL\n",
    "save_base_dir = '../model-save'\n",
    "save_dir      = save_base_dir + \"/\" + MODEL\n",
    "\n",
    "os.makedirs(logs_base_dir, exist_ok=True)\n",
    "os.makedirs(log_dir,       exist_ok=True)\n",
    "os.makedirs(save_base_dir, exist_ok=True)\n",
    "os.makedirs(save_dir,      exist_ok=True)\n",
    "\n",
    "%load_ext tensorboard\n",
    "\n",
    "# ****** DEFINICION DE PARAMETROS *********\n",
    "NUM_WORDS   = 12154 + 2\n",
    "LEN_SENTS   = 153\n",
    "NUM_TAGS    = 19 + 2\n",
    "NUM_LEMA    = 9189 + 2\n",
    "NUM_POSTAG  = 16 + 2\n",
    "\n",
    "\n",
    "# ****** DEFINICION DE HIPERPARAMETROS *********\n",
    "_EPOCHS      = 30\n",
    "EMBED_DIM    = 300\n",
    "CHAR_EMBEDD  = 50\n",
    "_DROPOUT     = 0.5\n",
    "REC_DROPOUT  = 0.1\n",
    "LEARN_RATE   = 1e-3\n",
    "N_TRAIN      = int(1e4)\n",
    "EP_DECAY     = 1e-8\n",
    "BETA_1       = 0.9\n",
    "BETA_2       = 0.999\n",
    "_BACH_SIZE   = 500\n",
    "VAL_SPLIT    = 0.1\n",
    "STEPS_PER_EPOCH = N_TRAIN//_BACH_SIZE\n",
    "\n",
    "\n",
    "gpus = tf.config.experimental.list_physical_devices('GPU')\n",
    "if gpus:\n",
    "    try:\n",
    "        # Currently, memory growth needs to be the same across GPUs\n",
    "        for gpu in gpus:\n",
    "            tf.config.experimental.set_memory_growth(gpu, True)\n",
    "            \n",
    "        logical_gpus = tf.config.experimental.list_logical_devices('GPU')\n",
    "        print(len(gpus), \"Physical GPUs,\", len(logical_gpus), \"Logical GPUs\")\n",
    "    except RuntimeError as e:\n",
    "        # Memory growth must be set before GPUs have been initialized\n",
    "        print(e)"
   ]
  },
  {
   "cell_type": "code",
   "execution_count": null,
   "metadata": {},
   "outputs": [],
   "source": [
    "test_sentences = []\n",
    "with open(\"../vectors/sentences_test.txt\", \"rb\") as fp:\n",
    "    test_sentences = pickle.load(fp)\n",
    "\n",
    "print(test_sentences[0])\n",
    "\n",
    "## ********** Oraciones ********** ##\n",
    "word2idx = np.load('../vectors/word2index.npy', allow_pickle=True).item()\n",
    "idx2tag  = np.load('../vectors/index2tag.npy', allow_pickle=True).item()\n",
    "\n",
    "X_train = np.load('../vectors/X_train.npy')\n",
    "X_test  = np.load('../vectors/X_test.npy')\n",
    "X_dev   = np.load('../vectors/X_dev.npy')\n",
    "\n",
    "\n",
    "## ********** Lemma ********** ##\n",
    "feature_lemma_to_idx = np.load('../vectors/features/index/lema_to_index.npy', allow_pickle=True).item()\n",
    "#feature[lemma]_to_tag  = np.load('../vectors/features index2tag.npy', allow_pickle=True).item()\n",
    "\n",
    "X_lemma_train = np.load('../vectors/features/input_train/X_lema_train.npy')\n",
    "X_lemma_test  = np.load('../vectors/features/input_test/X_lema_test.npy')\n",
    "X_lemma_dev   = np.load('../vectors/features/input_dev/X_lema_dev.npy')\n",
    "\n",
    "\n",
    "## ********** Postag ********** ##\n",
    "feature_pos_to_idx = np.load('../vectors/features/index/postag_to_index.npy', allow_pickle=True).item()\n",
    "#feature[pos]_to_tag  = np.load('../vectors/features index2tag.npy', allow_pickle=True).item()\n",
    "\n",
    "X_pos_train = np.load('../vectors/features/input_train/X_postag_train.npy')\n",
    "X_pos_test  = np.load('../vectors/features/input_test/X_postag_test.npy')\n",
    "X_pos_dev   = np.load('../vectors/features/input_dev/X_postag_dev.npy')\n",
    "\n",
    "\n",
    "## ********** Salidas ********** ##\n",
    "y_train  = np.load('../vectors/y_train.npy')\n",
    "y_test   = np.load('../vectors/y_test.npy')\n",
    "y_dev    = np.load('../vectors/y_dev.npy')"
   ]
  },
  {
   "cell_type": "markdown",
   "metadata": {},
   "source": [
    "## Pruebas de carga de datos"
   ]
  },
  {
   "cell_type": "code",
   "execution_count": null,
   "metadata": {},
   "outputs": [],
   "source": [
    "#print('**** Diccionario de palabras: ****\\n')\n",
    "#for key, value in feature_lemma_to_idx.items():\n",
    "#    if value == 10:\n",
    "#        break\n",
    "#    else:\n",
    "#        print(key, ' : ', value)\n",
    "        \n",
    "#print(X_train[0], \"\\n\")\n",
    "#print(X_lemma_train[0], \"\\n\")\n",
    "#print(X_pos_train[0], \"\\n\")\n",
    "print(len(X_train[0]))\n",
    "print(len(X_lemma_train[0]))\n",
    "print(len(X_pos_train[0]))\n",
    "\n",
    "\n",
    "#print(y_train[0])\n",
    "#print(len(y_train))\n",
    "#print(len(y_test))\n",
    "#print(len(y_dev))"
   ]
  },
  {
   "cell_type": "markdown",
   "metadata": {},
   "source": [
    "### Se carga el embedding de Palabras"
   ]
  },
  {
   "cell_type": "code",
   "execution_count": null,
   "metadata": {},
   "outputs": [],
   "source": [
    "file1 = '../../../embedding/others/biomed_emb/scielo_wikipedia/cbow/cased/Scielo+Wiki_cbow_cased.vec'\n",
    "embedding_matrix = bme(file1, NUM_WORDS, EMBED_DIM, word2idx)"
   ]
  },
  {
   "cell_type": "markdown",
   "metadata": {},
   "source": [
    "### Se carga el embedding de Lemmas"
   ]
  },
  {
   "cell_type": "code",
   "execution_count": null,
   "metadata": {},
   "outputs": [],
   "source": [
    "file2 = '../../../embedding/lung_cancer_corpus/lemma_fasttext_cbow_model_300.txt'\n",
    "lemma_embedding_matrix = bme(file2, NUM_LEMA, EMBED_DIM, feature_lemma_to_idx)"
   ]
  },
  {
   "cell_type": "markdown",
   "metadata": {},
   "source": [
    "### Se carga el embedding de Postag"
   ]
  },
  {
   "cell_type": "code",
   "execution_count": null,
   "metadata": {},
   "outputs": [],
   "source": [
    "file3 = '../../../embedding/lung_cancer_corpus/postag_fasttext_cbow_model_300.txt'\n",
    "postag_embedding_matrix = bme(file3, NUM_POSTAG, EMBED_DIM, feature_pos_to_idx)"
   ]
  },
  {
   "cell_type": "code",
   "execution_count": null,
   "metadata": {},
   "outputs": [],
   "source": [
    "#print(embedding_matrix[4], \"\\n\")"
   ]
  },
  {
   "cell_type": "code",
   "execution_count": null,
   "metadata": {},
   "outputs": [],
   "source": [
    "#print(postag_embedding_matrix[4], \"\\n\")"
   ]
  },
  {
   "cell_type": "code",
   "execution_count": null,
   "metadata": {},
   "outputs": [],
   "source": [
    "#print(lemma_embedding_matrix[4], \"\\n\")"
   ]
  },
  {
   "cell_type": "markdown",
   "metadata": {},
   "source": [
    "## Definición del Modelo"
   ]
  },
  {
   "cell_type": "code",
   "execution_count": null,
   "metadata": {},
   "outputs": [],
   "source": [
    "strategy = tf.distribute.MirroredStrategy()\n",
    "\n",
    "with strategy.scope():\n",
    "    # Input left Layer\n",
    "    # Input sentences Layer\n",
    "    input1 = Input(shape=(LEN_SENTS,), dtype='int32')\n",
    "\n",
    "    # Embedding sentences Layer\n",
    "    sentences = Embedding(NUM_WORDS,\n",
    "                          EMBED_DIM,\n",
    "                          input_length=LEN_SENTS,\n",
    "                          weights=[embedding_matrix],\n",
    "                          trainable=False,\n",
    "                          mask_zero=True)(input1)\n",
    "\n",
    "    drp_sentences = Dropout(_DROPOUT, name='dropout_sentences')(sentences)\n",
    "\n",
    "    # Input lemma Layer\n",
    "    input2 = Input(shape=(LEN_SENTS,), dtype='int32')\n",
    "\n",
    "    # Embedding lemma Layer\n",
    "    lemma = Embedding(NUM_LEMA,\n",
    "                      EMBED_DIM,\n",
    "                      input_length=LEN_SENTS,\n",
    "                      weights=[lemma_embedding_matrix],\n",
    "                      trainable=False,\n",
    "                      mask_zero=True,\n",
    "                      name='lemma_embedding')(input2)\n",
    "\n",
    "    drp_lemma = Dropout(_DROPOUT, name='dropout_lemmas')(lemma)\n",
    "\n",
    "    # Input postag Layer\n",
    "    input3 = Input(shape=(LEN_SENTS,), dtype='int32')\n",
    "\n",
    "    # Embedding postag Layer\n",
    "    postag = Embedding(NUM_POSTAG,\n",
    "                       EMBED_DIM,\n",
    "                       input_length=LEN_SENTS,\n",
    "                       weights=[postag_embedding_matrix],\n",
    "                       #mask_zero=True,\n",
    "                       name='postag_embedding')(input3)\n",
    "\n",
    "    drp_postag = Dropout(_DROPOUT, name='dropout_postag')(postag)\n",
    "\n",
    "    # merged layers : merge (concat, average...) word and pos > bi-LSTM > bi-LSTM\n",
    "    mrg_cncat = Concatenate(axis=2)([drp_sentences, drp_lemma, drp_postag])\n",
    "\n",
    "    # BI-LSTM Layer\n",
    "    # BI-LSTM Layer\n",
    "    myModel = Bidirectional(LSTM(EMBED_DIM * 3, \n",
    "                                 return_sequences=True\n",
    "                                ),\n",
    "                            name='bilstm1')(mrg_cncat)\n",
    "\n",
    "    # TimeDistributed Layer\n",
    "    myModel  = TimeDistributed(Dropout(_DROPOUT))(myModel)\n",
    "    myModel  = TimeDistributed(Dense(units=EMBED_DIM * 3, activation='relu'))(myModel)\n",
    "    myModel  = TimeDistributed(Dense(units=NUM_TAGS, activation='relu'))(myModel)\n",
    "    \n",
    "    # CRF Layer\n",
    "    crf= crf4(NUM_TAGS, sparse_target=True, name='crf_layer')\n",
    "\n",
    "    merged_chain = crf(myModel)\n",
    "\n",
    "    #model = Model(inputs=input1, outputs=merged_chain)\n",
    "    model = Model(inputs=[input1, input2, input3], outputs=merged_chain)\n",
    "    \n",
    "    model.compile(optimizer='Nadam', loss=crf.loss, metrics=[crf.accuracy])\n",
    "\n",
    "model.summary()"
   ]
  },
  {
   "cell_type": "markdown",
   "metadata": {},
   "source": [
    "## Entranamiento del modelo"
   ]
  },
  {
   "cell_type": "code",
   "execution_count": null,
   "metadata": {},
   "outputs": [],
   "source": [
    "tensorboard_callback = TensorBoard(log_dir=log_dir, histogram_freq=1)\n",
    "\n",
    "# Fit the best model\n",
    "history = model.fit([X_train, X_lemma_train, X_pos_train], y_train,\n",
    "                      validation_data  = ([X_dev, X_lemma_dev, X_pos_dev], y_dev),\n",
    "                      batch_size       = _BACH_SIZE, \n",
    "                      epochs           = _EPOCHS,\n",
    "                      verbose          = 2, \n",
    "                      callbacks        = [tensorboard_callback])"
   ]
  },
  {
   "cell_type": "markdown",
   "metadata": {},
   "source": [
    "### se almacena el modelo"
   ]
  },
  {
   "cell_type": "code",
   "execution_count": null,
   "metadata": {},
   "outputs": [],
   "source": [
    "# serialize model to JSON\n",
    "model_json = model.to_json()\n",
    "with open(save_dir + \"/\" + MODEL + \".json\", \"w\") as json_file:\n",
    "    json_file.write(model_json)\n",
    "\n",
    "# serialize weights to HDF5\n",
    "model.save_weights(save_dir + \"/\" + MODEL + \".h5\")\n",
    "print(\"Saved model to disk\")"
   ]
  },
  {
   "cell_type": "markdown",
   "metadata": {},
   "source": [
    "### Evaluamos el modelo y calculamos el valor de precision con respecto a los datos de prueba"
   ]
  },
  {
   "cell_type": "code",
   "execution_count": null,
   "metadata": {},
   "outputs": [],
   "source": [
    "scores = model.evaluate([X_test, X_lemma_test, X_pos_test], y_test)\n",
    "print(f\"{model.metrics_names[1]}: {scores[1] * 100}\")"
   ]
  },
  {
   "cell_type": "markdown",
   "metadata": {},
   "source": [
    "### Definimos la funcion que nos servira para graficar el comportamiento del modelo en cada epoca del entrenamiento"
   ]
  },
  {
   "cell_type": "code",
   "execution_count": null,
   "metadata": {},
   "outputs": [],
   "source": [
    "def plot_model_performance(train_loss, train_acc, train_val_loss, train_val_acc):\n",
    "    \"\"\" Plot model loss and accuracy through epochs. \"\"\"\n",
    "    blue= '#34495E'\n",
    "    green = '#2ECC71'\n",
    "    orange = '#E23B13'\n",
    "    \n",
    "    # plot model loss\n",
    "    #fig, (ax1, ax2) = plt.subplots(2, figsize=(10, 8))\n",
    "    plt.figure(figsize=(18, 6))\n",
    "    plt.subplot(1, 2, 1)\n",
    "    plt.plot(range(1, len(train_loss) + 1), train_loss, blue, linewidth=5, label='training')\n",
    "    plt.plot(range(1, len(train_val_loss) + 1), train_val_loss, green, linewidth=5, label='validation')\n",
    "    plt.xlabel('# epoch')\n",
    "    plt.ylabel('loss')\n",
    "    plt.tick_params('y')\n",
    "    plt.legend(loc='upper right', shadow=False)\n",
    "    plt.title('Model loss through #epochs', color=orange, fontweight='bold')\n",
    "    \n",
    "    # plot model accuracy\n",
    "    plt.subplot(1, 2, 2)\n",
    "    plt.plot(range(1, len(train_acc) + 1), train_acc, blue, linewidth=5, label='training')\n",
    "    plt.plot(range(1, len(train_val_acc) + 1), train_val_acc, green, linewidth=5, label='validation')\n",
    "    plt.xlabel('# epoch')\n",
    "    plt.ylabel('accuracy')\n",
    "    plt.tick_params('y')\n",
    "    plt.legend(loc='lower right', shadow=False)\n",
    "    plt.title('Model accuracy through #epochs', color=orange, fontweight='bold')\n",
    "    \n",
    "    #fig.savefig('Plot/training/training-mb-00.png', bbox_inches='tight')"
   ]
  },
  {
   "cell_type": "markdown",
   "metadata": {},
   "source": [
    "###  Procedemos a Graficar el comportamiento del Entrenamiento, tanto del conjunto de entrenamiento como el de validación con respecto a la cantidad de epocas"
   ]
  },
  {
   "cell_type": "code",
   "execution_count": null,
   "metadata": {},
   "outputs": [],
   "source": [
    "plot_model_performance(\n",
    "    train_loss     = history.history.get('loss', []),\n",
    "    train_acc      = history.history.get('viterbi_accuracy', []),\n",
    "    train_val_loss = history.history.get('val_loss', []),\n",
    "    train_val_acc  = history.history.get('val_viterbi_accuracy', [])\n",
    ")"
   ]
  },
  {
   "cell_type": "markdown",
   "metadata": {},
   "source": [
    "### Función que Permite convertir Indices en Tags"
   ]
  },
  {
   "cell_type": "code",
   "execution_count": null,
   "metadata": {},
   "outputs": [],
   "source": [
    "def logits_to_tokens(sequences, indexa):\n",
    "    token_sequences = []\n",
    "    for categorical_sequence in sequences:\n",
    "        token_sequence = []\n",
    "        for categorical in categorical_sequence:\n",
    "            token_sequence.append(indexa[categorical])\n",
    " \n",
    "        token_sequences.append(token_sequence)\n",
    " \n",
    "    return token_sequences"
   ]
  },
  {
   "cell_type": "markdown",
   "metadata": {},
   "source": [
    "### Hacemos la prediccion sobre el conjunto de pruebas"
   ]
  },
  {
   "cell_type": "code",
   "execution_count": null,
   "metadata": {},
   "outputs": [],
   "source": [
    "#print(idx2tag[6])\n",
    "prediction = model.predict([X_test, X_lemma_test, X_pos_test])"
   ]
  },
  {
   "cell_type": "code",
   "execution_count": null,
   "metadata": {},
   "outputs": [],
   "source": [
    "y_pred = logits_to_tokens(np.argmax(prediction, -1), idx2tag)\n",
    "#print(y_pred[0])"
   ]
  },
  {
   "cell_type": "markdown",
   "metadata": {},
   "source": [
    "### Hallamos los valores de F1 score, recall, precision"
   ]
  },
  {
   "cell_type": "code",
   "execution_count": null,
   "metadata": {
    "scrolled": true
   },
   "outputs": [],
   "source": [
    "y_true = []\n",
    "for i, oracion in enumerate(test_sentences):\n",
    "    row_sent = []\n",
    " \n",
    "    for j, lista_palabras in enumerate(oracion):\n",
    "        row_sent.append(lista_palabras[1])\n",
    "\n",
    "    qekk = ['-PAD-'] * 153\n",
    "\n",
    "    qekk[:len(row_sent)] = row_sent\n",
    "    y_true.append(qekk)"
   ]
  },
  {
   "cell_type": "code",
   "execution_count": null,
   "metadata": {},
   "outputs": [],
   "source": [
    "#prub = np.argmax(y_test, axis=-1)\n",
    "#print(idx2tag)\n",
    "#print(prub[0])\n",
    "#print(y_true[0])\n",
    "#print(len(y_true))\n",
    "#print(len(y_true[0]))\n",
    "#print(len(y_true[1]), \"\\n\")"
   ]
  },
  {
   "cell_type": "code",
   "execution_count": null,
   "metadata": {},
   "outputs": [],
   "source": [
    "li1 = sum(y_true, [])\n",
    "li2 = sum(y_pred, [])\n",
    "\n",
    "results = pd.DataFrame(columns=['Expected', 'Predicted'])\n",
    "\n",
    "results['Expected'] = li1\n",
    "results['Predicted'] = li2"
   ]
  },
  {
   "cell_type": "code",
   "execution_count": null,
   "metadata": {},
   "outputs": [],
   "source": [
    "#print('\\nclassification_report:\\n', seqclarep(y_true, y_pred))\n",
    "\n",
    "print(\"precision: {:.1%}\".format(precision_score(y_true, y_pred)))\n",
    "print(\"   recall: {:.1%}\".format(recall_score(y_true,    y_pred)))\n",
    "print(\" accuracy: {:.1%}\".format(accuracy_score(y_true,  y_pred)))\n",
    "print(\" F1-score: {:.1%}\".format(f1_score(y_true,        y_pred)))"
   ]
  },
  {
   "cell_type": "markdown",
   "metadata": {},
   "source": [
    "### Hallamos el calculo de cada una de las etiquetas por separado"
   ]
  },
  {
   "cell_type": "code",
   "execution_count": null,
   "metadata": {},
   "outputs": [],
   "source": [
    "report = eskclarep(results['Expected'], results['Predicted'])\n",
    "#print('\\nclassification_report:\\n', report)"
   ]
  },
  {
   "cell_type": "code",
   "execution_count": null,
   "metadata": {},
   "outputs": [],
   "source": [
    "def report_to_df(report):\n",
    "    report = [x.split(' ') for x in report.split('\\n')]\n",
    "    header = ['Class Name']+[x for x in report[0] if x!='']\n",
    "    values = []\n",
    "    for row in report[1:-5]:\n",
    "        row = [value for value in row if value!='']\n",
    "        if row!=[]:\n",
    "            values.append(row)\n",
    "    df = pd.DataFrame(data = values, columns = header)\n",
    "    return df\n",
    "\n",
    "print(report_to_df(report))"
   ]
  },
  {
   "cell_type": "code",
   "execution_count": null,
   "metadata": {},
   "outputs": [],
   "source": [
    "import pandas as pd\n",
    "import seaborn as sn\n",
    "import matplotlib.pyplot as plt\n",
    "\n",
    "data = {'y_Actual':    results['Expected'],\n",
    "        'y_Predicted': results['Predicted']\n",
    "        }\n",
    "\n",
    "df = pd.DataFrame(data, columns=['y_Actual','y_Predicted'])\n",
    "confusion_matrix = pd.crosstab(df['y_Actual'], df['y_Predicted'], rownames=['Actual'], colnames=['Predicted'], margins = True)\n",
    "\n",
    "sn.heatmap(confusion_matrix, annot=True)\n",
    "\n",
    "plt.rcParams[\"figure.figsize\"] = (20,10)\n",
    "plt.show()"
   ]
  },
  {
   "cell_type": "code",
   "execution_count": null,
   "metadata": {},
   "outputs": [],
   "source": [
    "from numba import cuda \n",
    "devices = cuda.list_devices()\n",
    "for device in devices:\n",
    "    device.reset()"
   ]
  },
  {
   "cell_type": "code",
   "execution_count": null,
   "metadata": {},
   "outputs": [],
   "source": []
  }
 ],
 "metadata": {
  "kernelspec": {
   "display_name": "Python 3",
   "language": "python",
   "name": "python3"
  },
  "language_info": {
   "codemirror_mode": {
    "name": "ipython",
    "version": 3
   },
   "file_extension": ".py",
   "mimetype": "text/x-python",
   "name": "python",
   "nbconvert_exporter": "python",
   "pygments_lexer": "ipython3",
   "version": "3.7.4"
  }
 },
 "nbformat": 4,
 "nbformat_minor": 4
}
